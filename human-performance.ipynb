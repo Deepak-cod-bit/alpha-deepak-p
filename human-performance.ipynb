{
 "cells": [
  {
   "cell_type": "code",
   "execution_count": 1,
   "id": "5ffcecb6",
   "metadata": {
    "_cell_guid": "b1076dfc-b9ad-4769-8c92-a6c4dae69d19",
    "_uuid": "8f2839f25d086af736a60e9eeb907d3b93b6e0e5",
    "execution": {
     "iopub.execute_input": "2025-07-14T09:40:07.703931Z",
     "iopub.status.busy": "2025-07-14T09:40:07.703479Z",
     "iopub.status.idle": "2025-07-14T09:40:10.224258Z",
     "shell.execute_reply": "2025-07-14T09:40:10.222752Z"
    },
    "papermill": {
     "duration": 2.528912,
     "end_time": "2025-07-14T09:40:10.226402",
     "exception": false,
     "start_time": "2025-07-14T09:40:07.697490",
     "status": "completed"
    },
    "tags": []
   },
   "outputs": [
    {
     "name": "stdout",
     "output_type": "stream",
     "text": [
      "/kaggle/input/human-cognitive-performance-analysis/human_cognitive_performance.csv\n"
     ]
    }
   ],
   "source": [
    "# This Python 3 environment comes with many helpful analytics libraries installed\n",
    "# It is defined by the kaggle/python Docker image: https://github.com/kaggle/docker-python\n",
    "# For example, here's several helpful packages to load\n",
    "\n",
    "import numpy as np # linear algebra\n",
    "import pandas as pd # data processing, CSV file I/O (e.g. pd.read_csv)\n",
    "\n",
    "# Input data files are available in the read-only \"../input/\" directory\n",
    "# For example, running this (by clicking run or pressing Shift+Enter) will list all files under the input directory\n",
    "\n",
    "import os\n",
    "for dirname, _, filenames in os.walk('/kaggle/input'):\n",
    "    for filename in filenames:\n",
    "        print(os.path.join(dirname, filename))\n",
    "\n",
    "# You can write up to 20GB to the current directory (/kaggle/working/) that gets preserved as output when you create a version using \"Save & Run All\" \n",
    "# You can also write temporary files to /kaggle/temp/, but they won't be saved outside of the current session"
   ]
  },
  {
   "cell_type": "markdown",
   "id": "7001dceb",
   "metadata": {
    "papermill": {
     "duration": 0.003766,
     "end_time": "2025-07-14T09:40:10.234958",
     "exception": false,
     "start_time": "2025-07-14T09:40:10.231192",
     "status": "completed"
    },
    "tags": []
   },
   "source": [
    "# IMPORT DATA"
   ]
  },
  {
   "cell_type": "code",
   "execution_count": 2,
   "id": "331669a3",
   "metadata": {
    "execution": {
     "iopub.execute_input": "2025-07-14T09:40:10.244655Z",
     "iopub.status.busy": "2025-07-14T09:40:10.244136Z",
     "iopub.status.idle": "2025-07-14T09:40:10.587082Z",
     "shell.execute_reply": "2025-07-14T09:40:10.585868Z"
    },
    "papermill": {
     "duration": 0.349825,
     "end_time": "2025-07-14T09:40:10.588911",
     "exception": false,
     "start_time": "2025-07-14T09:40:10.239086",
     "status": "completed"
    },
    "tags": []
   },
   "outputs": [
    {
     "data": {
      "text/html": [
       "<div>\n",
       "<style scoped>\n",
       "    .dataframe tbody tr th:only-of-type {\n",
       "        vertical-align: middle;\n",
       "    }\n",
       "\n",
       "    .dataframe tbody tr th {\n",
       "        vertical-align: top;\n",
       "    }\n",
       "\n",
       "    .dataframe thead th {\n",
       "        text-align: right;\n",
       "    }\n",
       "</style>\n",
       "<table border=\"1\" class=\"dataframe\">\n",
       "  <thead>\n",
       "    <tr style=\"text-align: right;\">\n",
       "      <th></th>\n",
       "      <th>User_ID</th>\n",
       "      <th>Age</th>\n",
       "      <th>Gender</th>\n",
       "      <th>Sleep_Duration</th>\n",
       "      <th>Stress_Level</th>\n",
       "      <th>Diet_Type</th>\n",
       "      <th>Daily_Screen_Time</th>\n",
       "      <th>Exercise_Frequency</th>\n",
       "      <th>Caffeine_Intake</th>\n",
       "      <th>Reaction_Time</th>\n",
       "      <th>Memory_Test_Score</th>\n",
       "      <th>Cognitive_Score</th>\n",
       "      <th>AI_Predicted_Score</th>\n",
       "    </tr>\n",
       "  </thead>\n",
       "  <tbody>\n",
       "    <tr>\n",
       "      <th>0</th>\n",
       "      <td>U1</td>\n",
       "      <td>57</td>\n",
       "      <td>Female</td>\n",
       "      <td>6.5</td>\n",
       "      <td>3</td>\n",
       "      <td>Non-Vegetarian</td>\n",
       "      <td>6.5</td>\n",
       "      <td>Medium</td>\n",
       "      <td>41</td>\n",
       "      <td>583.33</td>\n",
       "      <td>65</td>\n",
       "      <td>36.71</td>\n",
       "      <td>39.77</td>\n",
       "    </tr>\n",
       "    <tr>\n",
       "      <th>1</th>\n",
       "      <td>U2</td>\n",
       "      <td>39</td>\n",
       "      <td>Female</td>\n",
       "      <td>7.6</td>\n",
       "      <td>9</td>\n",
       "      <td>Non-Vegetarian</td>\n",
       "      <td>10.8</td>\n",
       "      <td>High</td>\n",
       "      <td>214</td>\n",
       "      <td>368.24</td>\n",
       "      <td>58</td>\n",
       "      <td>54.35</td>\n",
       "      <td>57.68</td>\n",
       "    </tr>\n",
       "    <tr>\n",
       "      <th>2</th>\n",
       "      <td>U3</td>\n",
       "      <td>26</td>\n",
       "      <td>Male</td>\n",
       "      <td>8.2</td>\n",
       "      <td>6</td>\n",
       "      <td>Vegetarian</td>\n",
       "      <td>5.7</td>\n",
       "      <td>Low</td>\n",
       "      <td>429</td>\n",
       "      <td>445.21</td>\n",
       "      <td>49</td>\n",
       "      <td>32.57</td>\n",
       "      <td>29.54</td>\n",
       "    </tr>\n",
       "    <tr>\n",
       "      <th>3</th>\n",
       "      <td>U4</td>\n",
       "      <td>32</td>\n",
       "      <td>Male</td>\n",
       "      <td>7.8</td>\n",
       "      <td>9</td>\n",
       "      <td>Vegetarian</td>\n",
       "      <td>8.3</td>\n",
       "      <td>Low</td>\n",
       "      <td>464</td>\n",
       "      <td>286.33</td>\n",
       "      <td>94</td>\n",
       "      <td>70.15</td>\n",
       "      <td>74.59</td>\n",
       "    </tr>\n",
       "    <tr>\n",
       "      <th>4</th>\n",
       "      <td>U5</td>\n",
       "      <td>50</td>\n",
       "      <td>Male</td>\n",
       "      <td>9.7</td>\n",
       "      <td>2</td>\n",
       "      <td>Non-Vegetarian</td>\n",
       "      <td>11.3</td>\n",
       "      <td>Medium</td>\n",
       "      <td>365</td>\n",
       "      <td>237.65</td>\n",
       "      <td>62</td>\n",
       "      <td>87.54</td>\n",
       "      <td>91.78</td>\n",
       "    </tr>\n",
       "  </tbody>\n",
       "</table>\n",
       "</div>"
      ],
      "text/plain": [
       "  User_ID  Age  Gender  Sleep_Duration  Stress_Level       Diet_Type  \\\n",
       "0      U1   57  Female             6.5             3  Non-Vegetarian   \n",
       "1      U2   39  Female             7.6             9  Non-Vegetarian   \n",
       "2      U3   26    Male             8.2             6      Vegetarian   \n",
       "3      U4   32    Male             7.8             9      Vegetarian   \n",
       "4      U5   50    Male             9.7             2  Non-Vegetarian   \n",
       "\n",
       "   Daily_Screen_Time Exercise_Frequency  Caffeine_Intake  Reaction_Time  \\\n",
       "0                6.5             Medium               41         583.33   \n",
       "1               10.8               High              214         368.24   \n",
       "2                5.7                Low              429         445.21   \n",
       "3                8.3                Low              464         286.33   \n",
       "4               11.3             Medium              365         237.65   \n",
       "\n",
       "   Memory_Test_Score  Cognitive_Score  AI_Predicted_Score  \n",
       "0                 65            36.71               39.77  \n",
       "1                 58            54.35               57.68  \n",
       "2                 49            32.57               29.54  \n",
       "3                 94            70.15               74.59  \n",
       "4                 62            87.54               91.78  "
      ]
     },
     "execution_count": 2,
     "metadata": {},
     "output_type": "execute_result"
    }
   ],
   "source": [
    "data = pd.read_csv('/kaggle/input/human-cognitive-performance-analysis/human_cognitive_performance.csv')\n",
    "data.head()"
   ]
  },
  {
   "cell_type": "code",
   "execution_count": 3,
   "id": "b852c774",
   "metadata": {
    "execution": {
     "iopub.execute_input": "2025-07-14T09:40:10.598595Z",
     "iopub.status.busy": "2025-07-14T09:40:10.598187Z",
     "iopub.status.idle": "2025-07-14T09:40:10.649046Z",
     "shell.execute_reply": "2025-07-14T09:40:10.647860Z"
    },
    "papermill": {
     "duration": 0.057872,
     "end_time": "2025-07-14T09:40:10.650902",
     "exception": false,
     "start_time": "2025-07-14T09:40:10.593030",
     "status": "completed"
    },
    "tags": []
   },
   "outputs": [
    {
     "name": "stdout",
     "output_type": "stream",
     "text": [
      "<class 'pandas.core.frame.DataFrame'>\n",
      "RangeIndex: 80000 entries, 0 to 79999\n",
      "Data columns (total 13 columns):\n",
      " #   Column              Non-Null Count  Dtype  \n",
      "---  ------              --------------  -----  \n",
      " 0   User_ID             80000 non-null  object \n",
      " 1   Age                 80000 non-null  int64  \n",
      " 2   Gender              80000 non-null  object \n",
      " 3   Sleep_Duration      80000 non-null  float64\n",
      " 4   Stress_Level        80000 non-null  int64  \n",
      " 5   Diet_Type           80000 non-null  object \n",
      " 6   Daily_Screen_Time   80000 non-null  float64\n",
      " 7   Exercise_Frequency  80000 non-null  object \n",
      " 8   Caffeine_Intake     80000 non-null  int64  \n",
      " 9   Reaction_Time       80000 non-null  float64\n",
      " 10  Memory_Test_Score   80000 non-null  int64  \n",
      " 11  Cognitive_Score     80000 non-null  float64\n",
      " 12  AI_Predicted_Score  80000 non-null  float64\n",
      "dtypes: float64(5), int64(4), object(4)\n",
      "memory usage: 7.9+ MB\n"
     ]
    }
   ],
   "source": [
    "data.info()"
   ]
  },
  {
   "cell_type": "code",
   "execution_count": 4,
   "id": "b0aadf85",
   "metadata": {
    "execution": {
     "iopub.execute_input": "2025-07-14T09:40:10.660284Z",
     "iopub.status.busy": "2025-07-14T09:40:10.659977Z",
     "iopub.status.idle": "2025-07-14T09:40:10.727243Z",
     "shell.execute_reply": "2025-07-14T09:40:10.726082Z"
    },
    "papermill": {
     "duration": 0.073786,
     "end_time": "2025-07-14T09:40:10.728851",
     "exception": false,
     "start_time": "2025-07-14T09:40:10.655065",
     "status": "completed"
    },
    "tags": []
   },
   "outputs": [
    {
     "data": {
      "text/html": [
       "<div>\n",
       "<style scoped>\n",
       "    .dataframe tbody tr th:only-of-type {\n",
       "        vertical-align: middle;\n",
       "    }\n",
       "\n",
       "    .dataframe tbody tr th {\n",
       "        vertical-align: top;\n",
       "    }\n",
       "\n",
       "    .dataframe thead th {\n",
       "        text-align: right;\n",
       "    }\n",
       "</style>\n",
       "<table border=\"1\" class=\"dataframe\">\n",
       "  <thead>\n",
       "    <tr style=\"text-align: right;\">\n",
       "      <th></th>\n",
       "      <th>Age</th>\n",
       "      <th>Sleep_Duration</th>\n",
       "      <th>Stress_Level</th>\n",
       "      <th>Daily_Screen_Time</th>\n",
       "      <th>Caffeine_Intake</th>\n",
       "      <th>Reaction_Time</th>\n",
       "      <th>Memory_Test_Score</th>\n",
       "      <th>Cognitive_Score</th>\n",
       "      <th>AI_Predicted_Score</th>\n",
       "    </tr>\n",
       "  </thead>\n",
       "  <tbody>\n",
       "    <tr>\n",
       "      <th>count</th>\n",
       "      <td>80000.000000</td>\n",
       "      <td>80000.000000</td>\n",
       "      <td>80000.000000</td>\n",
       "      <td>80000.000000</td>\n",
       "      <td>80000.000000</td>\n",
       "      <td>80000.000000</td>\n",
       "      <td>80000.000000</td>\n",
       "      <td>80000.000000</td>\n",
       "      <td>80000.000000</td>\n",
       "    </tr>\n",
       "    <tr>\n",
       "      <th>mean</th>\n",
       "      <td>38.525525</td>\n",
       "      <td>7.005333</td>\n",
       "      <td>5.493762</td>\n",
       "      <td>6.504646</td>\n",
       "      <td>248.988213</td>\n",
       "      <td>399.973579</td>\n",
       "      <td>69.498350</td>\n",
       "      <td>58.172395</td>\n",
       "      <td>58.121357</td>\n",
       "    </tr>\n",
       "    <tr>\n",
       "      <th>std</th>\n",
       "      <td>12.101876</td>\n",
       "      <td>1.734435</td>\n",
       "      <td>2.865308</td>\n",
       "      <td>3.167072</td>\n",
       "      <td>144.541990</td>\n",
       "      <td>115.369329</td>\n",
       "      <td>17.305659</td>\n",
       "      <td>23.058522</td>\n",
       "      <td>23.119598</td>\n",
       "    </tr>\n",
       "    <tr>\n",
       "      <th>min</th>\n",
       "      <td>18.000000</td>\n",
       "      <td>4.000000</td>\n",
       "      <td>1.000000</td>\n",
       "      <td>1.000000</td>\n",
       "      <td>0.000000</td>\n",
       "      <td>200.000000</td>\n",
       "      <td>40.000000</td>\n",
       "      <td>0.000000</td>\n",
       "      <td>0.000000</td>\n",
       "    </tr>\n",
       "    <tr>\n",
       "      <th>25%</th>\n",
       "      <td>28.000000</td>\n",
       "      <td>5.500000</td>\n",
       "      <td>3.000000</td>\n",
       "      <td>3.800000</td>\n",
       "      <td>123.000000</td>\n",
       "      <td>300.150000</td>\n",
       "      <td>55.000000</td>\n",
       "      <td>40.910000</td>\n",
       "      <td>40.850000</td>\n",
       "    </tr>\n",
       "    <tr>\n",
       "      <th>50%</th>\n",
       "      <td>39.000000</td>\n",
       "      <td>7.000000</td>\n",
       "      <td>5.000000</td>\n",
       "      <td>6.500000</td>\n",
       "      <td>249.000000</td>\n",
       "      <td>400.360000</td>\n",
       "      <td>70.000000</td>\n",
       "      <td>58.360000</td>\n",
       "      <td>58.360000</td>\n",
       "    </tr>\n",
       "    <tr>\n",
       "      <th>75%</th>\n",
       "      <td>49.000000</td>\n",
       "      <td>8.500000</td>\n",
       "      <td>8.000000</td>\n",
       "      <td>9.200000</td>\n",
       "      <td>375.000000</td>\n",
       "      <td>499.250000</td>\n",
       "      <td>85.000000</td>\n",
       "      <td>75.830000</td>\n",
       "      <td>75.890000</td>\n",
       "    </tr>\n",
       "    <tr>\n",
       "      <th>max</th>\n",
       "      <td>59.000000</td>\n",
       "      <td>10.000000</td>\n",
       "      <td>10.000000</td>\n",
       "      <td>12.000000</td>\n",
       "      <td>499.000000</td>\n",
       "      <td>599.990000</td>\n",
       "      <td>99.000000</td>\n",
       "      <td>100.000000</td>\n",
       "      <td>100.000000</td>\n",
       "    </tr>\n",
       "  </tbody>\n",
       "</table>\n",
       "</div>"
      ],
      "text/plain": [
       "                Age  Sleep_Duration  Stress_Level  Daily_Screen_Time  \\\n",
       "count  80000.000000    80000.000000  80000.000000       80000.000000   \n",
       "mean      38.525525        7.005333      5.493762           6.504646   \n",
       "std       12.101876        1.734435      2.865308           3.167072   \n",
       "min       18.000000        4.000000      1.000000           1.000000   \n",
       "25%       28.000000        5.500000      3.000000           3.800000   \n",
       "50%       39.000000        7.000000      5.000000           6.500000   \n",
       "75%       49.000000        8.500000      8.000000           9.200000   \n",
       "max       59.000000       10.000000     10.000000          12.000000   \n",
       "\n",
       "       Caffeine_Intake  Reaction_Time  Memory_Test_Score  Cognitive_Score  \\\n",
       "count     80000.000000   80000.000000       80000.000000     80000.000000   \n",
       "mean        248.988213     399.973579          69.498350        58.172395   \n",
       "std         144.541990     115.369329          17.305659        23.058522   \n",
       "min           0.000000     200.000000          40.000000         0.000000   \n",
       "25%         123.000000     300.150000          55.000000        40.910000   \n",
       "50%         249.000000     400.360000          70.000000        58.360000   \n",
       "75%         375.000000     499.250000          85.000000        75.830000   \n",
       "max         499.000000     599.990000          99.000000       100.000000   \n",
       "\n",
       "       AI_Predicted_Score  \n",
       "count        80000.000000  \n",
       "mean            58.121357  \n",
       "std             23.119598  \n",
       "min              0.000000  \n",
       "25%             40.850000  \n",
       "50%             58.360000  \n",
       "75%             75.890000  \n",
       "max            100.000000  "
      ]
     },
     "execution_count": 4,
     "metadata": {},
     "output_type": "execute_result"
    }
   ],
   "source": [
    "data.describe()"
   ]
  },
  {
   "cell_type": "code",
   "execution_count": 5,
   "id": "575c5b09",
   "metadata": {
    "execution": {
     "iopub.execute_input": "2025-07-14T09:40:10.738791Z",
     "iopub.status.busy": "2025-07-14T09:40:10.738386Z",
     "iopub.status.idle": "2025-07-14T09:40:10.809210Z",
     "shell.execute_reply": "2025-07-14T09:40:10.808155Z"
    },
    "papermill": {
     "duration": 0.078542,
     "end_time": "2025-07-14T09:40:10.811441",
     "exception": false,
     "start_time": "2025-07-14T09:40:10.732899",
     "status": "completed"
    },
    "tags": []
   },
   "outputs": [
    {
     "data": {
      "text/html": [
       "<div>\n",
       "<style scoped>\n",
       "    .dataframe tbody tr th:only-of-type {\n",
       "        vertical-align: middle;\n",
       "    }\n",
       "\n",
       "    .dataframe tbody tr th {\n",
       "        vertical-align: top;\n",
       "    }\n",
       "\n",
       "    .dataframe thead th {\n",
       "        text-align: right;\n",
       "    }\n",
       "</style>\n",
       "<table border=\"1\" class=\"dataframe\">\n",
       "  <thead>\n",
       "    <tr style=\"text-align: right;\">\n",
       "      <th></th>\n",
       "      <th>User_ID</th>\n",
       "      <th>Age</th>\n",
       "      <th>Gender</th>\n",
       "      <th>Sleep_Duration</th>\n",
       "      <th>Stress_Level</th>\n",
       "      <th>Diet_Type</th>\n",
       "      <th>Daily_Screen_Time</th>\n",
       "      <th>Exercise_Frequency</th>\n",
       "      <th>Caffeine_Intake</th>\n",
       "      <th>Reaction_Time</th>\n",
       "      <th>Memory_Test_Score</th>\n",
       "      <th>Cognitive_Score</th>\n",
       "      <th>AI_Predicted_Score</th>\n",
       "    </tr>\n",
       "  </thead>\n",
       "  <tbody>\n",
       "  </tbody>\n",
       "</table>\n",
       "</div>"
      ],
      "text/plain": [
       "Empty DataFrame\n",
       "Columns: [User_ID, Age, Gender, Sleep_Duration, Stress_Level, Diet_Type, Daily_Screen_Time, Exercise_Frequency, Caffeine_Intake, Reaction_Time, Memory_Test_Score, Cognitive_Score, AI_Predicted_Score]\n",
       "Index: []"
      ]
     },
     "execution_count": 5,
     "metadata": {},
     "output_type": "execute_result"
    }
   ],
   "source": [
    "data.duplicated().sum()\n",
    "invalid_age = data[data['Age']<0]\n",
    "invalid_age"
   ]
  },
  {
   "cell_type": "code",
   "execution_count": 6,
   "id": "c62e4c0f",
   "metadata": {
    "execution": {
     "iopub.execute_input": "2025-07-14T09:40:10.823173Z",
     "iopub.status.busy": "2025-07-14T09:40:10.822836Z",
     "iopub.status.idle": "2025-07-14T09:40:10.833627Z",
     "shell.execute_reply": "2025-07-14T09:40:10.832654Z"
    },
    "papermill": {
     "duration": 0.018709,
     "end_time": "2025-07-14T09:40:10.835717",
     "exception": false,
     "start_time": "2025-07-14T09:40:10.817008",
     "status": "completed"
    },
    "tags": []
   },
   "outputs": [],
   "source": [
    "invalid_sleep_hours = data[data['Sleep_Duration']>24]\n",
    "invalid_sleep_hours\n",
    "random_data = data[data['Age']<40]"
   ]
  },
  {
   "cell_type": "code",
   "execution_count": 7,
   "id": "02dcaf29",
   "metadata": {
    "execution": {
     "iopub.execute_input": "2025-07-14T09:40:10.846274Z",
     "iopub.status.busy": "2025-07-14T09:40:10.845959Z",
     "iopub.status.idle": "2025-07-14T09:40:11.377738Z",
     "shell.execute_reply": "2025-07-14T09:40:11.376700Z"
    },
    "papermill": {
     "duration": 0.539266,
     "end_time": "2025-07-14T09:40:11.379614",
     "exception": false,
     "start_time": "2025-07-14T09:40:10.840348",
     "status": "completed"
    },
    "tags": []
   },
   "outputs": [
    {
     "data": {
      "text/plain": [
       "<matplotlib.collections.PathCollection at 0x7bfdca443a50>"
      ]
     },
     "execution_count": 7,
     "metadata": {},
     "output_type": "execute_result"
    },
    {
     "data": {
      "image/png": "[encoded data removed]",
      "text/plain": [
       "<Figure size 640x480 with 1 Axes>"
      ]
     },
     "metadata": {},
     "output_type": "display_data"
    }
   ],
   "source": [
    "import matplotlib.pyplot as plt\n",
    "plt.scatter(random_data['Sleep_Duration'],random_data['Age'])"
   ]
  },
  {
   "cell_type": "code",
   "execution_count": 8,
   "id": "5a493fa5",
   "metadata": {
    "execution": {
     "iopub.execute_input": "2025-07-14T09:40:11.391097Z",
     "iopub.status.busy": "2025-07-14T09:40:11.390722Z",
     "iopub.status.idle": "2025-07-14T09:40:11.462894Z",
     "shell.execute_reply": "2025-07-14T09:40:11.461230Z"
    },
    "papermill": {
     "duration": 0.080048,
     "end_time": "2025-07-14T09:40:11.464999",
     "exception": false,
     "start_time": "2025-07-14T09:40:11.384951",
     "status": "completed"
    },
    "tags": []
   },
   "outputs": [
    {
     "name": "stdout",
     "output_type": "stream",
     "text": [
      "Average sleep at age 18 = 7.044564657393097\n",
      "Average sleep at age 19 = 6.974857142857143\n",
      "Average sleep at age 20 = 7.022510822510822\n",
      "Average sleep at age 21 = 6.9599031216361675\n",
      "Average sleep at age 22 = 7.136930330015716\n",
      "Average sleep at age 23 = 7.028922908693276\n",
      "Average sleep at age 24 = 6.941066666666667\n",
      "Average sleep at age 25 = 6.971751709626512\n",
      "Average sleep at age 26 = 7.09837574445046\n",
      "Average sleep at age 27 = 6.991797283176593\n",
      "Average sleep at age 28 = 6.989834024896266\n",
      "Average sleep at age 29 = 7.025803161652218\n",
      "Average sleep at age 30 = 6.961806656101427\n",
      "Average sleep at age 31 = 6.969755058572949\n",
      "Average sleep at age 32 = 6.958685685175751\n",
      "Average sleep at age 33 = 6.9904024767801864\n",
      "Average sleep at age 34 = 6.983342009370119\n",
      "Average sleep at age 35 = 7.071174934725848\n",
      "Average sleep at age 36 = 7.007339449541284\n",
      "Average sleep at age 37 = 6.976572890025576\n",
      "Average sleep at age 38 = 6.99200852424081\n",
      "Average sleep at age 39 = 6.968098480880041\n",
      "Average sleep at age 40 = 7.048762001010611\n",
      "Average sleep at age 41 = 6.986013986013986\n",
      "Average sleep at age 42 = 6.950801282051282\n",
      "Average sleep at age 43 = 6.976028806584361\n",
      "Average sleep at age 44 = 6.962423312883436\n",
      "Average sleep at age 45 = 6.980800877674164\n",
      "Average sleep at age 46 = 7.0236758474576275\n",
      "Average sleep at age 47 = 7.039114583333333\n",
      "Average sleep at age 48 = 6.942335766423358\n",
      "Average sleep at age 49 = 6.990913731495661\n",
      "Average sleep at age 50 = 7.055476673427992\n",
      "Average sleep at age 51 = 7.020136698212408\n",
      "Average sleep at age 52 = 7.049242424242424\n",
      "Average sleep at age 53 = 7.0706942236354\n",
      "Average sleep at age 54 = 7.010810810810811\n",
      "Average sleep at age 55 = 7.064427083333333\n",
      "Average sleep at age 56 = 7.016605744125326\n",
      "Average sleep at age 57 = 7.001642819289878\n",
      "Average sleep at age 58 = 7.012857886517439\n",
      "Average sleep at age 59 = 6.955032119914347\n"
     ]
    }
   ],
   "source": [
    "for i in range(0, 60):\n",
    "    average_sleep = data[data['Age'] == i]['Sleep_Duration'].mean()\n",
    "    if not pd.isna(average_sleep):\n",
    "        print(f\"Average sleep at age {i} = {average_sleep}\")\n"
   ]
  },
  {
   "cell_type": "code",
   "execution_count": 9,
   "id": "04cf6802",
   "metadata": {
    "execution": {
     "iopub.execute_input": "2025-07-14T09:40:11.478549Z",
     "iopub.status.busy": "2025-07-14T09:40:11.478177Z",
     "iopub.status.idle": "2025-07-14T09:40:11.490295Z",
     "shell.execute_reply": "2025-07-14T09:40:11.489083Z"
    },
    "papermill": {
     "duration": 0.021802,
     "end_time": "2025-07-14T09:40:11.492126",
     "exception": false,
     "start_time": "2025-07-14T09:40:11.470324",
     "status": "completed"
    },
    "tags": []
   },
   "outputs": [
    {
     "data": {
      "text/html": [
       "<div>\n",
       "<style scoped>\n",
       "    .dataframe tbody tr th:only-of-type {\n",
       "        vertical-align: middle;\n",
       "    }\n",
       "\n",
       "    .dataframe tbody tr th {\n",
       "        vertical-align: top;\n",
       "    }\n",
       "\n",
       "    .dataframe thead th {\n",
       "        text-align: right;\n",
       "    }\n",
       "</style>\n",
       "<table border=\"1\" class=\"dataframe\">\n",
       "  <thead>\n",
       "    <tr style=\"text-align: right;\">\n",
       "      <th></th>\n",
       "      <th>User_ID</th>\n",
       "      <th>Age</th>\n",
       "      <th>Gender</th>\n",
       "      <th>Sleep_Duration</th>\n",
       "      <th>Stress_Level</th>\n",
       "      <th>Diet_Type</th>\n",
       "      <th>Daily_Screen_Time</th>\n",
       "      <th>Exercise_Frequency</th>\n",
       "      <th>Caffeine_Intake</th>\n",
       "      <th>Reaction_Time</th>\n",
       "      <th>Memory_Test_Score</th>\n",
       "      <th>Cognitive_Score</th>\n",
       "      <th>AI_Predicted_Score</th>\n",
       "    </tr>\n",
       "  </thead>\n",
       "  <tbody>\n",
       "  </tbody>\n",
       "</table>\n",
       "</div>"
      ],
      "text/plain": [
       "Empty DataFrame\n",
       "Columns: [User_ID, Age, Gender, Sleep_Duration, Stress_Level, Diet_Type, Daily_Screen_Time, Exercise_Frequency, Caffeine_Intake, Reaction_Time, Memory_Test_Score, Cognitive_Score, AI_Predicted_Score]\n",
       "Index: []"
      ]
     },
     "execution_count": 9,
     "metadata": {},
     "output_type": "execute_result"
    }
   ],
   "source": [
    "sleep_less4 = data[data['Sleep_Duration']<4]\n",
    "sleep_less4"
   ]
  },
  {
   "cell_type": "code",
   "execution_count": 10,
   "id": "709d2771",
   "metadata": {
    "execution": {
     "iopub.execute_input": "2025-07-14T09:40:11.504978Z",
     "iopub.status.busy": "2025-07-14T09:40:11.503782Z",
     "iopub.status.idle": "2025-07-14T09:40:12.007215Z",
     "shell.execute_reply": "2025-07-14T09:40:12.006219Z"
    },
    "papermill": {
     "duration": 0.511431,
     "end_time": "2025-07-14T09:40:12.008945",
     "exception": false,
     "start_time": "2025-07-14T09:40:11.497514",
     "status": "completed"
    },
    "tags": []
   },
   "outputs": [
    {
     "data": {
      "text/plain": [
       "<matplotlib.collections.PathCollection at 0x7bfdb7df1510>"
      ]
     },
     "execution_count": 10,
     "metadata": {},
     "output_type": "execute_result"
    },
    {
     "data": {
      "image/png": "[encoded data removed]",
      "text/plain": [
       "<Figure size 640x480 with 1 Axes>"
      ]
     },
     "metadata": {},
     "output_type": "display_data"
    }
   ],
   "source": [
    "plt.scatter(data['Age'],data['Stress_Level'])"
   ]
  },
  {
   "cell_type": "code",
   "execution_count": 11,
   "id": "4cbebc81",
   "metadata": {
    "execution": {
     "iopub.execute_input": "2025-07-14T09:40:12.021783Z",
     "iopub.status.busy": "2025-07-14T09:40:12.020671Z",
     "iopub.status.idle": "2025-07-14T09:40:12.052858Z",
     "shell.execute_reply": "2025-07-14T09:40:12.051386Z"
    },
    "papermill": {
     "duration": 0.040461,
     "end_time": "2025-07-14T09:40:12.054741",
     "exception": false,
     "start_time": "2025-07-14T09:40:12.014280",
     "status": "completed"
    },
    "tags": []
   },
   "outputs": [
    {
     "name": "stdout",
     "output_type": "stream",
     "text": [
      "5.512263838249917\n",
      "5.485954236652357\n"
     ]
    }
   ],
   "source": [
    "diet_veg= data[data['Diet_Type']=='Vegetarian']['Stress_Level'].mean()\n",
    "print(diet_veg)\n",
    "diet_nonveg= data[data['Diet_Type']=='Non-Vegetarian']['Stress_Level'].mean()\n",
    "print(diet_nonveg)"
   ]
  },
  {
   "cell_type": "code",
   "execution_count": 12,
   "id": "deba84db",
   "metadata": {
    "execution": {
     "iopub.execute_input": "2025-07-14T09:40:12.069409Z",
     "iopub.status.busy": "2025-07-14T09:40:12.067764Z",
     "iopub.status.idle": "2025-07-14T09:40:12.102415Z",
     "shell.execute_reply": "2025-07-14T09:40:12.101144Z"
    },
    "papermill": {
     "duration": 0.043679,
     "end_time": "2025-07-14T09:40:12.104283",
     "exception": false,
     "start_time": "2025-07-14T09:40:12.060604",
     "status": "completed"
    },
    "tags": []
   },
   "outputs": [
    {
     "name": "stdout",
     "output_type": "stream",
     "text": [
      "10\n",
      "10\n"
     ]
    }
   ],
   "source": [
    "female_stress = data[data['Gender']=='Female']['Stress_Level'].max()\n",
    "print(female_stress)\n",
    "male_stress = data[data['Gender']=='Male']['Stress_Level'].max()\n",
    "print(male_stress)"
   ]
  },
  {
   "cell_type": "code",
   "execution_count": 13,
   "id": "842548e5",
   "metadata": {
    "execution": {
     "iopub.execute_input": "2025-07-14T09:40:12.117374Z",
     "iopub.status.busy": "2025-07-14T09:40:12.116989Z",
     "iopub.status.idle": "2025-07-14T09:40:12.152391Z",
     "shell.execute_reply": "2025-07-14T09:40:12.151177Z"
    },
    "papermill": {
     "duration": 0.044108,
     "end_time": "2025-07-14T09:40:12.154150",
     "exception": false,
     "start_time": "2025-07-14T09:40:12.110042",
     "status": "completed"
    },
    "tags": []
   },
   "outputs": [
    {
     "name": "stdout",
     "output_type": "stream",
     "text": [
      "399.91332855952504\n",
      "399.9767684358854\n"
     ]
    }
   ],
   "source": [
    "female_reaction= data[data['Gender']=='Female']['Reaction_Time'].mean()\n",
    "print(female_reaction)\n",
    "male_reaction = data[data['Gender']=='Male']['Reaction_Time'].mean()\n",
    "print(male_reaction)"
   ]
  },
  {
   "cell_type": "code",
   "execution_count": null,
   "id": "77d04d34",
   "metadata": {
    "papermill": {
     "duration": 0.004854,
     "end_time": "2025-07-14T09:40:12.164399",
     "exception": false,
     "start_time": "2025-07-14T09:40:12.159545",
     "status": "completed"
    },
    "tags": []
   },
   "outputs": [],
   "source": []
  },
  {
   "cell_type": "code",
   "execution_count": null,
   "id": "1bf86b70",
   "metadata": {
    "papermill": {
     "duration": 0.004832,
     "end_time": "2025-07-14T09:40:12.174749",
     "exception": false,
     "start_time": "2025-07-14T09:40:12.169917",
     "status": "completed"
    },
    "tags": []
   },
   "outputs": [],
   "source": []
  },
  {
   "cell_type": "code",
   "execution_count": null,
   "id": "0227445b",
   "metadata": {
    "papermill": {
     "duration": 0.005004,
     "end_time": "2025-07-14T09:40:12.185115",
     "exception": false,
     "start_time": "2025-07-14T09:40:12.180111",
     "status": "completed"
    },
    "tags": []
   },
   "outputs": [],
   "source": []
  },
  {
   "cell_type": "code",
   "execution_count": null,
   "id": "e2c05ec8",
   "metadata": {
    "papermill": {
     "duration": 0.005009,
     "end_time": "2025-07-14T09:40:12.195244",
     "exception": false,
     "start_time": "2025-07-14T09:40:12.190235",
     "status": "completed"
    },
    "tags": []
   },
   "outputs": [],
   "source": []
  }
 ],
 "metadata": {
  "kaggle": {
   "accelerator": "none",
   "dataSources": [
    {
     "datasetId": 7033542,
     "sourceId": 11254780,
     "sourceType": "datasetVersion"
    }
   ],
   "dockerImageVersionId": 31089,
   "isGpuEnabled": false,
   "isInternetEnabled": true,
   "language": "python",
   "sourceType": "notebook"
  },
  "kernelspec": {
   "display_name": "Python 3",
   "language": "python",
   "name": "python3"
  },
  "language_info": {
   "codemirror_mode": {
    "name": "ipython",
    "version": 3
   },
   "file_extension": ".py",
   "mimetype": "text/x-python",
   "name": "python",
   "nbconvert_exporter": "python",
   "pygments_lexer": "ipython3",
   "version": "3.11.13"
  },
  "papermill": {
   "default_parameters": {},
   "duration": 11.192359,
   "end_time": "2025-07-14T09:40:13.023760",
   "environment_variables": {},
   "exception": null,
   "input_path": "__notebook__.ipynb",
   "output_path": "__notebook__.ipynb",
   "parameters": {},
   "start_time": "2025-07-14T09:40:01.831401",
   "version": "2.6.0"
  }
 },
 "nbformat": 4,
 "nbformat_minor": 5
}
